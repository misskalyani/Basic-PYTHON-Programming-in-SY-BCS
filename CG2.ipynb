{
 "cells": [
  {
   "cell_type": "code",
   "execution_count": 3,
   "id": "72272b6b",
   "metadata": {},
   "outputs": [
    {
     "data": {
      "image/svg+xml": [
       "<svg xmlns=\"http://www.w3.org/2000/svg\"\n",
       "            xmlns:xlink=\"http://www.w3.org/1999/xlink\"\n",
       "            width=\"100.0\" height=\"100.0\" viewBox=\"-0.586602540378444 -0.0866025403784439 0.673205080756888 1.03923048454133\"\n",
       "            preserveAspectRatio=\"xMinYMin meet\">\n",
       "            <defs>\n",
       "                <marker id=\"markerCircle\" markerWidth=\"8\" markerHeight=\"8\"\n",
       "                    refx=\"5\" refy=\"5\" markerUnits=\"strokeWidth\">\n",
       "                    <circle cx=\"5\" cy=\"5\" r=\"1.5\" style=\"stroke: none; fill:#000000;\"/>\n",
       "                </marker>\n",
       "                <marker id=\"markerArrow\" markerWidth=\"13\" markerHeight=\"13\" refx=\"2\" refy=\"4\"\n",
       "                       orient=\"auto\" markerUnits=\"strokeWidth\">\n",
       "                    <path d=\"M2,2 L2,6 L6,4\" style=\"fill: #000000;\" />\n",
       "                </marker>\n",
       "                <marker id=\"markerReverseArrow\" markerWidth=\"13\" markerHeight=\"13\" refx=\"6\" refy=\"4\"\n",
       "                       orient=\"auto\" markerUnits=\"strokeWidth\">\n",
       "                    <path d=\"M6,2 L6,6 L2,4\" style=\"fill: #000000;\" />\n",
       "                </marker>\n",
       "            </defs><g transform=\"matrix(1,0,0,-1,0,0.866025403784439)\"><path fill-rule=\"evenodd\" fill=\"#66cc99\" stroke=\"#555555\" stroke-width=\"0.0207846096908265\" opacity=\"0.6\" d=\"M 0,0 L -0.500000000000000,0.866025403784439\" marker-start=\"url(#markerReverseArrow)\" marker-end=\"url(#markerArrow)\"/></g></svg>"
      ],
      "text/latex": [
       "$\\displaystyle \\operatorname{Line2D}\\left(\\operatorname{Point2D}\\left(0, 0\\right), \\operatorname{Point2D}\\left(- \\frac{1}{2}, \\frac{\\sqrt{3}}{2}\\right)\\right)$"
      ],
      "text/plain": [
       "Line2D(Point2D(0, 0), Point2D(-1/2, sqrt(3)/2))"
      ]
     },
     "execution_count": 3,
     "metadata": {},
     "output_type": "execute_result"
    }
   ],
   "source": [
    "#Rotate Line by 30 degree Point(0,0),Point(0,1)\n",
    "from sympy import*\n",
    "l=Line(Point(0,0),Point(0,1))\n",
    "l.rotate(pi/6)"
   ]
  },
  {
   "cell_type": "code",
   "execution_count": 4,
   "id": "c5d02d9b",
   "metadata": {},
   "outputs": [
    {
     "data": {
      "image/svg+xml": [
       "<svg xmlns=\"http://www.w3.org/2000/svg\"\n",
       "            xmlns:xlink=\"http://www.w3.org/1999/xlink\"\n",
       "            width=\"100.0\" height=\"100.0\" viewBox=\"-0.586602540378444 -0.0866025403784439 0.673205080756888 1.03923048454133\"\n",
       "            preserveAspectRatio=\"xMinYMin meet\">\n",
       "            <defs>\n",
       "                <marker id=\"markerCircle\" markerWidth=\"8\" markerHeight=\"8\"\n",
       "                    refx=\"5\" refy=\"5\" markerUnits=\"strokeWidth\">\n",
       "                    <circle cx=\"5\" cy=\"5\" r=\"1.5\" style=\"stroke: none; fill:#000000;\"/>\n",
       "                </marker>\n",
       "                <marker id=\"markerArrow\" markerWidth=\"13\" markerHeight=\"13\" refx=\"2\" refy=\"4\"\n",
       "                       orient=\"auto\" markerUnits=\"strokeWidth\">\n",
       "                    <path d=\"M2,2 L2,6 L6,4\" style=\"fill: #000000;\" />\n",
       "                </marker>\n",
       "                <marker id=\"markerReverseArrow\" markerWidth=\"13\" markerHeight=\"13\" refx=\"6\" refy=\"4\"\n",
       "                       orient=\"auto\" markerUnits=\"strokeWidth\">\n",
       "                    <path d=\"M6,2 L6,6 L2,4\" style=\"fill: #000000;\" />\n",
       "                </marker>\n",
       "            </defs><g transform=\"matrix(1,0,0,-1,0,0.866025403784439)\"><path fill-rule=\"evenodd\" fill=\"#66cc99\" stroke=\"#555555\" stroke-width=\"0.0207846096908265\" opacity=\"0.6\" d=\"M 0,0 L -0.500000000000000,0.866025403784439\" marker-start=\"url(#markerReverseArrow)\" marker-end=\"url(#markerArrow)\"/></g></svg>"
      ],
      "text/latex": [
       "$\\displaystyle \\operatorname{Line2D}\\left(\\operatorname{Point2D}\\left(0, 0\\right), \\operatorname{Point2D}\\left(- \\frac{1}{2}, \\frac{866025403784439}{1000000000000000}\\right)\\right)$"
      ],
      "text/plain": [
       "Line2D(Point2D(0, 0), Point2D(-1/2, 866025403784439/1000000000000000))"
      ]
     },
     "execution_count": 4,
     "metadata": {},
     "output_type": "execute_result"
    }
   ],
   "source": [
    "#Rotate Line by 30 degree Point(0,0),Point(0,1)\n",
    "from sympy import*\n",
    "from math import*\n",
    "l=Line(Point(0,0),Point(0,1))\n",
    "angle=radians(30)\n",
    "l.rotate(angle)"
   ]
  },
  {
   "cell_type": "code",
   "execution_count": 5,
   "id": "2eaecbe5",
   "metadata": {},
   "outputs": [
    {
     "data": {
      "image/svg+xml": [
       "<svg xmlns=\"http://www.w3.org/2000/svg\"\n",
       "            xmlns:xlink=\"http://www.w3.org/1999/xlink\"\n",
       "            width=\"100.0\" height=\"100.0\" viewBox=\"-2.10000000000000 -0.0999999999999999 1.20000000000000 1.20000000000000\"\n",
       "            preserveAspectRatio=\"xMinYMin meet\">\n",
       "            <defs>\n",
       "                <marker id=\"markerCircle\" markerWidth=\"8\" markerHeight=\"8\"\n",
       "                    refx=\"5\" refy=\"5\" markerUnits=\"strokeWidth\">\n",
       "                    <circle cx=\"5\" cy=\"5\" r=\"1.5\" style=\"stroke: none; fill:#000000;\"/>\n",
       "                </marker>\n",
       "                <marker id=\"markerArrow\" markerWidth=\"13\" markerHeight=\"13\" refx=\"2\" refy=\"4\"\n",
       "                       orient=\"auto\" markerUnits=\"strokeWidth\">\n",
       "                    <path d=\"M2,2 L2,6 L6,4\" style=\"fill: #000000;\" />\n",
       "                </marker>\n",
       "                <marker id=\"markerReverseArrow\" markerWidth=\"13\" markerHeight=\"13\" refx=\"6\" refy=\"4\"\n",
       "                       orient=\"auto\" markerUnits=\"strokeWidth\">\n",
       "                    <path d=\"M6,2 L6,6 L2,4\" style=\"fill: #000000;\" />\n",
       "                </marker>\n",
       "            </defs><g transform=\"matrix(1,0,0,-1,0,1.00000000000000)\"><path fill-rule=\"evenodd\" fill=\"#66cc99\" stroke=\"#555555\" stroke-width=\"0.0240000000000000\" opacity=\"0.6\" d=\"M -1.00000000000000,1.22464679914735E-16 L -2.00000000000000,1.00000000000000\" /></g></svg>"
      ],
      "text/latex": [
       "$\\displaystyle \\operatorname{Segment2D}\\left(\\operatorname{Point2D}\\left(-1, \\frac{24492935982947}{200000000000000000000000000000}\\right), \\operatorname{Point2D}\\left(-2, 1\\right)\\right)$"
      ],
      "text/plain": [
       "Segment2D(Point2D(-1, 24492935982947/200000000000000000000000000000), Point2D(-2, 1))"
      ]
     },
     "execution_count": 5,
     "metadata": {},
     "output_type": "execute_result"
    }
   ],
   "source": [
    "#Rotate segment by 180 degree Point(1,0),Point(2,-1)\n",
    "s=Segment(Point(1,0),Point(2,-1))\n",
    "s.rotate(pi)"
   ]
  },
  {
   "cell_type": "code",
   "execution_count": 7,
   "id": "ab6a2567",
   "metadata": {},
   "outputs": [
    {
     "data": {
      "image/svg+xml": [
       "<svg xmlns=\"http://www.w3.org/2000/svg\"\n",
       "            xmlns:xlink=\"http://www.w3.org/1999/xlink\"\n",
       "            width=\"100.0\" height=\"100.0\" viewBox=\"-4.40000000000000 -0.400000000000000 4.80000000000000 4.80000000000000\"\n",
       "            preserveAspectRatio=\"xMinYMin meet\">\n",
       "            <defs>\n",
       "                <marker id=\"markerCircle\" markerWidth=\"8\" markerHeight=\"8\"\n",
       "                    refx=\"5\" refy=\"5\" markerUnits=\"strokeWidth\">\n",
       "                    <circle cx=\"5\" cy=\"5\" r=\"1.5\" style=\"stroke: none; fill:#000000;\"/>\n",
       "                </marker>\n",
       "                <marker id=\"markerArrow\" markerWidth=\"13\" markerHeight=\"13\" refx=\"2\" refy=\"4\"\n",
       "                       orient=\"auto\" markerUnits=\"strokeWidth\">\n",
       "                    <path d=\"M2,2 L2,6 L6,4\" style=\"fill: #000000;\" />\n",
       "                </marker>\n",
       "                <marker id=\"markerReverseArrow\" markerWidth=\"13\" markerHeight=\"13\" refx=\"6\" refy=\"4\"\n",
       "                       orient=\"auto\" markerUnits=\"strokeWidth\">\n",
       "                    <path d=\"M6,2 L6,6 L2,4\" style=\"fill: #000000;\" />\n",
       "                </marker>\n",
       "            </defs><g transform=\"matrix(1,0,0,-1,0,4.00000000000000)\"><path fill-rule=\"evenodd\" fill=\"#66cc99\" stroke=\"#555555\" stroke-width=\"0.0960000000000000\" opacity=\"0.6\" d=\"M 0,0 L -4.00000000000000,4.00000000000000\" marker-start=\"url(#markerCircle)\" marker-end=\"url(#markerArrow)\"/></g></svg>"
      ],
      "text/latex": [
       "$\\displaystyle \\operatorname{Ray2D}\\left(\\operatorname{Point2D}\\left(0, 0\\right), \\operatorname{Point2D}\\left(-4, 4\\right)\\right)$"
      ],
      "text/plain": [
       "Ray2D(Point2D(0, 0), Point2D(-4, 4))"
      ]
     },
     "execution_count": 7,
     "metadata": {},
     "output_type": "execute_result"
    }
   ],
   "source": [
    "#Rotate Ray by 90 degree Point(0,0),Point(4,4)\n",
    "r=Ray(Point(0,0),Point(4,4))\n",
    "r.rotate(pi/2)"
   ]
  },
  {
   "cell_type": "code",
   "execution_count": 9,
   "id": "a3608e61",
   "metadata": {},
   "outputs": [
    {
     "name": "stdout",
     "output_type": "stream",
     "text": [
      "Reflect Line 4x+3y=5 through line x+y=0 =  Line2D(Point2D(-5/3, 0), Point2D(-1/3, -1))\n",
      "\n",
      "Equation =  x + 4*y/3 + 5/3\n"
     ]
    }
   ],
   "source": [
    "#Reflect Line 4x+3y=5 through line x+y=0 and find equation\n",
    "from sympy import*\n",
    "x,y=symbols('x y')\n",
    "l1=Line(4*x+3*y-5)\n",
    "l2=Line(x+y)\n",
    "l=l1.reflect(l2)\n",
    "print(\"Reflect Line 4x+3y=5 through line x+y=0 = \",l)\n",
    "print(\"\\nEquation = \",l.equation())"
   ]
  },
  {
   "cell_type": "code",
   "execution_count": 8,
   "id": "a5456a59",
   "metadata": {},
   "outputs": [
    {
     "data": {
      "image/svg+xml": [
       "<svg xmlns=\"http://www.w3.org/2000/svg\"\n",
       "            xmlns:xlink=\"http://www.w3.org/1999/xlink\"\n",
       "            width=\"100.0\" height=\"100.0\" viewBox=\"1.70000000000000 3.70000000000000 3.60000000000000 2.60000000000000\"\n",
       "            preserveAspectRatio=\"xMinYMin meet\">\n",
       "            <defs>\n",
       "                <marker id=\"markerCircle\" markerWidth=\"8\" markerHeight=\"8\"\n",
       "                    refx=\"5\" refy=\"5\" markerUnits=\"strokeWidth\">\n",
       "                    <circle cx=\"5\" cy=\"5\" r=\"1.5\" style=\"stroke: none; fill:#000000;\"/>\n",
       "                </marker>\n",
       "                <marker id=\"markerArrow\" markerWidth=\"13\" markerHeight=\"13\" refx=\"2\" refy=\"4\"\n",
       "                       orient=\"auto\" markerUnits=\"strokeWidth\">\n",
       "                    <path d=\"M2,2 L2,6 L6,4\" style=\"fill: #000000;\" />\n",
       "                </marker>\n",
       "                <marker id=\"markerReverseArrow\" markerWidth=\"13\" markerHeight=\"13\" refx=\"6\" refy=\"4\"\n",
       "                       orient=\"auto\" markerUnits=\"strokeWidth\">\n",
       "                    <path d=\"M6,2 L6,6 L2,4\" style=\"fill: #000000;\" />\n",
       "                </marker>\n",
       "            </defs><g transform=\"matrix(1,0,0,-1,0,10.0000000000000)\"><path fill-rule=\"evenodd\" fill=\"#66cc99\" stroke=\"#555555\" stroke-width=\"0.0720000000000000\" opacity=\"0.6\" d=\"M 5.00000000000000,6.00000000000000 L 2.00000000000000,4.00000000000000\" /></g></svg>"
      ],
      "text/latex": [
       "$\\displaystyle \\operatorname{Segment2D}\\left(\\operatorname{Point2D}\\left(5, 6\\right), \\operatorname{Point2D}\\left(2, 4\\right)\\right)$"
      ],
      "text/plain": [
       "Segment2D(Point2D(5, 6), Point2D(2, 4))"
      ]
     },
     "execution_count": 8,
     "metadata": {},
     "output_type": "execute_result"
    }
   ],
   "source": [
    "#Reflect segment having points(2,3) (4,6) through line x+y=8\n",
    "from sympy import*\n",
    "x,y=symbols('x y')\n",
    "s1=Segment(Point(2,3),Point(4,6))\n",
    "l=Line(x+y-8)\n",
    "s1.reflect(l)\n"
   ]
  },
  {
   "cell_type": "code",
   "execution_count": 17,
   "id": "e2fa882d",
   "metadata": {},
   "outputs": [
    {
     "name": "stdout",
     "output_type": "stream",
     "text": [
      "Point Collinear Or Not =  False\n",
      "\n",
      "Length =  oo\n",
      "\n",
      " slope =  5/2\n",
      "\n",
      "Distance =  sqrt(29)\n"
     ]
    }
   ],
   "source": [
    "#Declare Ponts p(4,6),q(2,1),r(8,2)And Check Points are collinear or not \n",
    "#And declare ray passing through p and q find its Slope,Find distance(p,q),length(p,q)\n",
    "from sympy import*\n",
    "p=Point(4,6)\n",
    "q=Point(2,1)\n",
    "r=Point(8,2)\n",
    "print(\"Point Collinear Or Not = \",Point.is_collinear(p,q,r))\n",
    "r=Ray(p,q)\n",
    "print(\"\\nLength = \",r.length)\n",
    "print(\"\\n slope = \",r.slope)\n",
    "print(\"\\nDistance = \",p.distance(q))"
   ]
  },
  {
   "cell_type": "code",
   "execution_count": null,
   "id": "f5721b4f",
   "metadata": {},
   "outputs": [],
   "source": []
  }
 ],
 "metadata": {
  "kernelspec": {
   "display_name": "Python 3 (ipykernel)",
   "language": "python",
   "name": "python3"
  },
  "language_info": {
   "codemirror_mode": {
    "name": "ipython",
    "version": 3
   },
   "file_extension": ".py",
   "mimetype": "text/x-python",
   "name": "python",
   "nbconvert_exporter": "python",
   "pygments_lexer": "ipython3",
   "version": "3.11.8"
  }
 },
 "nbformat": 4,
 "nbformat_minor": 5
}
