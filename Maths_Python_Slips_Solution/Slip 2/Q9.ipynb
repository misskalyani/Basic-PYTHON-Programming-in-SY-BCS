{
 "cells": [
  {
   "cell_type": "code",
   "execution_count": null,
   "metadata": {},
   "outputs": [],
   "source": [
    "from sympy import*\n",
    "p=Point(4,-2)\n",
    "print('\\nReflection Through Y-axis = ')\n",
    "p.transform(Matrix([[-1,0,0],[0,1,0],[0,0,1]]))\n",
    "print('\\nScaling in X-coordinate by factor 3 = ')\n",
    "p.scale(3,0)\n",
    "print('\\nScaling in Y-coordinate by factor 2.5 =')\n",
    "p.scale(0,2.5)\n",
    "print('\\nReflection Through Y=-X  = ')\n",
    "p.transform(Matrix([[0,-1,0],[-1,0,0],[0,0,1]]))"
   ]
  }
 ],
 "metadata": {
  "kernelspec": {
   "display_name": "Python 3",
   "language": "python",
   "name": "python3"
  },
  "language_info": {
   "name": "python",
   "version": "3.12.0"
  }
 },
 "nbformat": 4,
 "nbformat_minor": 2
}
