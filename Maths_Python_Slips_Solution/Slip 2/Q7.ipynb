{
 "cells": [
  {
   "cell_type": "code",
   "execution_count": null,
   "metadata": {},
   "outputs": [],
   "source": [
    "from pulp import*\n",
    "model = LpProblem(name =\"Solution\",sense=LpMaximize)\n",
    "x = LpVariable(name =\"x\",lowBound=0)\n",
    "y = LpVariable(name =\"y\",lowBound=0)\n",
    "model += (x+y<=7)\n",
    "model += (2*x+5*y<=1)\n",
    "model +=5*x+3*y\n",
    "print('\\n',model)\n",
    "print('\\n',model.solve())\n",
    "print('\\nModel Objective Value = ',model.objective.value())\n",
    "print('\\nValue Of x = ',x.value())\n",
    "print('\\nValue Of y = ',y.value())"
   ]
  }
 ],
 "metadata": {
  "kernelspec": {
   "display_name": "Python 3",
   "language": "python",
   "name": "python3"
  },
  "language_info": {
   "codemirror_mode": {
    "name": "ipython",
    "version": 3
   },
   "file_extension": ".py",
   "mimetype": "text/x-python",
   "name": "python",
   "nbconvert_exporter": "python",
   "pygments_lexer": "ipython3",
   "version": "3.12.0"
  }
 },
 "nbformat": 4,
 "nbformat_minor": 2
}
