{
 "cells": [
  {
   "cell_type": "code",
   "execution_count": null,
   "metadata": {},
   "outputs": [],
   "source": [
    "from pulp import*\n",
    "model = LpProblem(name =\"Solution\",sense=LpMaximize)\n",
    "x=LpVariable(name=\"x\",lowBound=0)\n",
    "y=LpVariable(name=\"y\",lowBound=0)\n",
    "z=LpVariable(name=\"z\",lowBound=0)\n",
    "model +=(x+2*y+z<=430)\n",
    "model +=(3*x+2<=460)\n",
    "model +=(x+4*y<=120)\n",
    "model +=3*x+2*y+z*5\n",
    "print('\\n',model)\n",
    "print('\\n',model.solve())\n",
    "print('\\n Model Objective Value = ',model.objective.value())\n",
    "print('\\n Value Of x = ',x.value())\n",
    "print('\\n Value Of y = ',y.value())\n",
    "print('\\n Value Of z = ',z.value())"
   ]
  }
 ],
 "metadata": {
  "kernelspec": {
   "display_name": "Python 3",
   "language": "python",
   "name": "python3"
  },
  "language_info": {
   "codemirror_mode": {
    "name": "ipython",
    "version": 3
   },
   "file_extension": ".py",
   "mimetype": "text/x-python",
   "name": "python",
   "nbconvert_exporter": "python",
   "pygments_lexer": "ipython3",
   "version": "3.12.0"
  }
 },
 "nbformat": 4,
 "nbformat_minor": 2
}
