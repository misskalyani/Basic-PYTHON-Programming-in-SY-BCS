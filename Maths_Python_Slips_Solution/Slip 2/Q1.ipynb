from pylab import*
import numpy as np
from math import*
x = np.linspace(0,10,100)
y = np.log(x)
plot(x,y,'r')
xlabel('x')
ylable('y')
title('$y=\log x$')
show()
