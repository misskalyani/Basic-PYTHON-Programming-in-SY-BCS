{
 "cells": [
  {
   "cell_type": "code",
   "execution_count": null,
   "metadata": {},
   "outputs": [],
   "source": [
    "from mpl_toolkits import mplot3d\n",
    "import numpy as np\n",
    "from pylab import*\n",
    "def f(x,y):\n",
    "    return sin(x*2+y*2)\n",
    "x = np.linspace(0,10,100)\n",
    "y = np.linspace(0,10,100)\n",
    "X,Y = np.meshgrid(x,y)\n",
    "Z = f(X,Y)\n",
    "ax=axes(Projection='3D')\n",
    "ax.contour3D(x,y,z,50)\n",
    "xlabel('x')\n",
    "ylabe('y')\n",
    "title('3D contour')\n",
    "show()"
   ]
  }
 ],
 "metadata": {
  "kernelspec": {
   "display_name": "Python 3",
   "language": "python",
   "name": "python3"
  },
  "language_info": {
   "codemirror_mode": {
    "name": "ipython",
    "version": 3
   },
   "file_extension": ".py",
   "mimetype": "text/x-python",
   "name": "python",
   "nbconvert_exporter": "python",
   "pygments_lexer": "ipython3",
   "version": "3.12.0"
  }
 },
 "nbformat": 4,
 "nbformat_minor": 2
}
