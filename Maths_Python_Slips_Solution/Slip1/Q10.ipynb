{
 "cells": [
  {
   "cell_type": "code",
   "execution_count": null,
   "metadata": {},
   "outputs": [],
   "source": [
    "from sympy import *\n",
    "a = Point(5,-2)\n",
    "b = Point(4,3)\n",
    "s=Segment(a,b)\n",
    "s=s.rotate(pi)\n",
    "s=s.scale(2,0)\n",
    "points=s.points\n",
    "points\n",
    "p=points[0]\n",
    "q=points[1]\n",
    "p1=p.transform(Matrix([[0,1,0],[1,0,0],[0,0,1]]))\n",
    "q1=q.transform(Matrix([[0,1,0],[1,0,0],[0,0,1]]))\n",
    "p1=p.transform(Matrix([[1,0,0],[4,1,0],[0,0,1]]))\n",
    "q1=q.transform(Matrix([[1,0,0],[4,1,0],[0,0,1]]))\n",
    "Segment(p1,q1)"
   ]
  }
 ],
 "metadata": {
  "language_info": {
   "name": "python"
  }
 },
 "nbformat": 4,
 "nbformat_minor": 2
}
