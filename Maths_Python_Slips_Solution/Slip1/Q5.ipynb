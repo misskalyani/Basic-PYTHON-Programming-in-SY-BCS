{
 "cells": [
  {
   "cell_type": "code",
   "execution_count": null,
   "metadata": {},
   "outputs": [],
   "source": [
    "from sympy import *\n",
    "a = Point(0,0)\n",
    "b = Point(2,0)\n",
    "c = Point(2,3)\n",
    "d = Point(1,6)\n",
    "p = Polygon(a,b,c,d)\n",
    "p.rotate(pi)"
   ]
  }
 ],
 "metadata": {
  "kernelspec": {
   "display_name": "Python 3",
   "language": "python",
   "name": "python3"
  },
  "language_info": {
   "name": "python",
   "version": "3.12.0"
  }
 },
 "nbformat": 4,
 "nbformat_minor": 2
}
