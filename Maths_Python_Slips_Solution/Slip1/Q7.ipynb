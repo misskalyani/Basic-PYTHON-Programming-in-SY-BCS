{
 "cells": [
  {
   "cell_type": "code",
   "execution_count": null,
   "metadata": {},
   "outputs": [],
   "source": [
    "from pulp import *\n",
    "model = LpProblem(name = \"Solution\",sense = LpMaximize)\n",
    "x = LpVariable(name = \"x\",lowBound = 0)\n",
    "y = LpVariable(name = \"y\",lowBound = 0)\n",
    "model += (4*x+6*y<=24)\n",
    "model +=(5*x+3*y<=15)\n",
    "model +=150*x+75*y\n",
    "model\n",
    "print('\\n')\n",
    "print(model.solve())\n",
    "print('\\nModel Objective Value = ',model.objective.value())\n",
    "print('\\nValue Of x = ',x.value())\n",
    "print('\\nValue Of y = ',y.value())"
   ]
  }
 ],
 "metadata": {
  "kernelspec": {
   "display_name": "Python 3",
   "language": "python",
   "name": "python3"
  },
  "language_info": {
   "codemirror_mode": {
    "name": "ipython",
    "version": 3
   },
   "file_extension": ".py",
   "mimetype": "text/x-python",
   "name": "python",
   "nbconvert_exporter": "python",
   "pygments_lexer": "ipython3",
   "version": "3.12.0"
  }
 },
 "nbformat": 4,
 "nbformat_minor": 2
}
