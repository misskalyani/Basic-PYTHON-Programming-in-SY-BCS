{
 "cells": [
  {
   "cell_type": "code",
   "execution_count": 11,
   "id": "5400614c",
   "metadata": {},
   "outputs": [
    {
     "data": {
      "text/latex": [
       "$\\displaystyle \\operatorname{Point2D}\\left(-4, 8\\right)$"
      ],
      "text/plain": [
       "Point2D(-4, 8)"
      ]
     },
     "execution_count": 11,
     "metadata": {},
     "output_type": "execute_result"
    }
   ],
   "source": [
    "\n",
    "from sympy import*\n",
    "x,y=symbols('x y')\n",
    "p=Point(4,8)\n",
    "#Reflection Through Y-axis\n",
    "p.reflect(Line(x))\n",
    "#p.transform(Matrix([[-1,0,0],[0,1,0],[0,0,1]]))\n"
   ]
  },
  {
   "cell_type": "code",
   "execution_count": 10,
   "id": "f13abc5c",
   "metadata": {},
   "outputs": [
    {
     "data": {
      "text/latex": [
       "$\\displaystyle \\operatorname{Point2D}\\left(4, -8\\right)$"
      ],
      "text/plain": [
       "Point2D(4, -8)"
      ]
     },
     "execution_count": 10,
     "metadata": {},
     "output_type": "execute_result"
    }
   ],
   "source": [
    "#Reflection Through X-axis\n",
    "\n",
    "p.reflect(Line(y))\n",
    "#p.transform(Matrix([[1,0,0],[0,-1,0],[0,0,1]]))"
   ]
  },
  {
   "cell_type": "code",
   "execution_count": 7,
   "id": "fc3ec7be",
   "metadata": {},
   "outputs": [
    {
     "data": {
      "text/latex": [
       "$\\displaystyle \\operatorname{Point2D}\\left(8, 4\\right)$"
      ],
      "text/plain": [
       "Point2D(8, 4)"
      ]
     },
     "execution_count": 7,
     "metadata": {},
     "output_type": "execute_result"
    }
   ],
   "source": [
    "#Reflection Through Y=X\n",
    "# x,y=symbols('x y')\n",
    "# p.reflect(Line(x-y))\n",
    "p.transform(Matrix([[0,1,0],[1,0,0],[0,0,1]]))"
   ]
  },
  {
   "cell_type": "code",
   "execution_count": 8,
   "id": "c5eb05ed",
   "metadata": {},
   "outputs": [
    {
     "data": {
      "text/latex": [
       "$\\displaystyle \\operatorname{Point2D}\\left(-8, -4\\right)$"
      ],
      "text/plain": [
       "Point2D(-8, -4)"
      ]
     },
     "execution_count": 8,
     "metadata": {},
     "output_type": "execute_result"
    }
   ],
   "source": [
    "#Reflection Through Y=-X\n",
    "# p.reflect(Line(x+y))\n",
    "p.transform(Matrix([[0,-1,0],[-1,0,0],[0,0,1]]))"
   ]
  },
  {
   "cell_type": "code",
   "execution_count": 12,
   "id": "27548db9",
   "metadata": {},
   "outputs": [
    {
     "data": {
      "text/latex": [
       "$\\displaystyle \\operatorname{Point2D}\\left(- \\frac{2}{5}, - \\frac{4}{5}\\right)$"
      ],
      "text/plain": [
       "Point2D(-2/5, -4/5)"
      ]
     },
     "execution_count": 12,
     "metadata": {},
     "output_type": "execute_result"
    }
   ],
   "source": [
    "#Reflect Point x+2y=9\n",
    "p.reflect(Line(x+2*y-9))"
   ]
  },
  {
   "cell_type": "code",
   "execution_count": 13,
   "id": "ce60293e",
   "metadata": {},
   "outputs": [
    {
     "data": {
      "text/latex": [
       "$\\displaystyle \\operatorname{Point2D}\\left(0, 56\\right)$"
      ],
      "text/plain": [
       "Point2D(0, 56)"
      ]
     },
     "execution_count": 13,
     "metadata": {},
     "output_type": "execute_result"
    }
   ],
   "source": [
    "#Scaling in Y-Coordinate by factor 7\n",
    "p.scale(0,7)"
   ]
  },
  {
   "cell_type": "code",
   "execution_count": 14,
   "id": "0262998a",
   "metadata": {},
   "outputs": [
    {
     "data": {
      "text/latex": [
       "$\\displaystyle \\operatorname{Point2D}\\left(24, 0\\right)$"
      ],
      "text/plain": [
       "Point2D(24, 0)"
      ]
     },
     "execution_count": 14,
     "metadata": {},
     "output_type": "execute_result"
    }
   ],
   "source": [
    "#Scaling in X-Coordinate by factor 6\n",
    "p.scale(6,0)"
   ]
  },
  {
   "cell_type": "code",
   "execution_count": 15,
   "id": "7cae1adc",
   "metadata": {},
   "outputs": [
    {
     "data": {
      "text/latex": [
       "$\\displaystyle \\operatorname{Point2D}\\left(36, 56\\right)$"
      ],
      "text/plain": [
       "Point2D(36, 56)"
      ]
     },
     "execution_count": 15,
     "metadata": {},
     "output_type": "execute_result"
    }
   ],
   "source": [
    "#Scaling in Y-Coordinate by factor 9,Y-Coordinate by factor 7\n",
    "p.scale(9,7)"
   ]
  },
  {
   "cell_type": "code",
   "execution_count": 18,
   "id": "75f3ccbe",
   "metadata": {},
   "outputs": [
    {
     "data": {
      "text/latex": [
       "$\\displaystyle \\operatorname{Point2D}\\left(4, 36\\right)$"
      ],
      "text/plain": [
       "Point2D(4, 36)"
      ]
     },
     "execution_count": 18,
     "metadata": {},
     "output_type": "execute_result"
    }
   ],
   "source": [
    "#Shearing in Y-Coordinate by factor 7\n",
    "p.transform(Matrix([[1,7,0],[0,1,0],[0,0,1]]))"
   ]
  },
  {
   "cell_type": "code",
   "execution_count": 21,
   "id": "9fb61a7a",
   "metadata": {},
   "outputs": [
    {
     "data": {
      "text/latex": [
       "$\\displaystyle \\operatorname{Point2D}\\left(84, 8\\right)$"
      ],
      "text/plain": [
       "Point2D(84, 8)"
      ]
     },
     "execution_count": 21,
     "metadata": {},
     "output_type": "execute_result"
    }
   ],
   "source": [
    "#Shearing in x-Coordinate by factor 10\n",
    "p.transform(Matrix([[1,0,0],[10,1,0],[0,0,1]]))"
   ]
  },
  {
   "cell_type": "code",
   "execution_count": 24,
   "id": "c2b6af50",
   "metadata": {},
   "outputs": [
    {
     "data": {
      "text/latex": [
       "$\\displaystyle \\operatorname{Point2D}\\left(76, 36\\right)$"
      ],
      "text/plain": [
       "Point2D(76, 36)"
      ]
     },
     "execution_count": 24,
     "metadata": {},
     "output_type": "execute_result"
    }
   ],
   "source": [
    "#Shearing in X-Coordinate by factor 9 Y-Coordinate by factor 7\n",
    "p.transform(Matrix([[1,7,0],[9,1,0],[0,0,1]]))"
   ]
  },
  {
   "cell_type": "code",
   "execution_count": 27,
   "id": "8ca47eb2",
   "metadata": {},
   "outputs": [
    {
     "data": {
      "text/latex": [
       "$\\displaystyle \\operatorname{Point2D}\\left(- 2 \\sqrt{2}, 6 \\sqrt{2}\\right)$"
      ],
      "text/plain": [
       "Point2D(-2*sqrt(2), 6*sqrt(2))"
      ]
     },
     "execution_count": 27,
     "metadata": {},
     "output_type": "execute_result"
    }
   ],
   "source": [
    "#Rotation about origin by an angle 45 degree\n",
    "p.rotate(pi/4)"
   ]
  },
  {
   "cell_type": "code",
   "execution_count": 28,
   "id": "04c2e238",
   "metadata": {},
   "outputs": [
    {
     "data": {
      "text/latex": [
       "$\\displaystyle \\operatorname{Point2D}\\left(- \\frac{282842712474619}{100000000000000}, \\frac{848528137423857}{100000000000000}\\right)$"
      ],
      "text/plain": [
       "Point2D(-282842712474619/100000000000000, 848528137423857/100000000000000)"
      ]
     },
     "execution_count": 28,
     "metadata": {},
     "output_type": "execute_result"
    }
   ],
   "source": [
    "from math import*\n",
    "angle=radians(45)\n",
    "p.rotate(angle)"
   ]
  },
  {
   "cell_type": "code",
   "execution_count": 33,
   "id": "abe11478",
   "metadata": {},
   "outputs": [
    {
     "name": "stdout",
     "output_type": "stream",
     "text": [
      "x,y distance =  sqrt(13)\n",
      "\n",
      "y,w Distance =  sqrt(13)\n",
      "\n",
      "x,w Distance =  sqrt(2)\n"
     ]
    }
   ],
   "source": [
    "#Distance Find\n",
    "#x,y;\n",
    "#y,w;\n",
    "#x,w\n",
    "x=Point(3,4)\n",
    "y=Point(5,1)\n",
    "w=Point(2,3)\n",
    "print(\"x,y distance = \",x.distance(y))\n",
    "print(\"\\ny,w Distance = \",y.distance(w))\n",
    "print(\"\\nx,w Distance = \",x.distance(w))"
   ]
  },
  {
   "cell_type": "code",
   "execution_count": null,
   "id": "b58a2b1e",
   "metadata": {},
   "outputs": [],
   "source": []
  }
 ],
 "metadata": {
  "kernelspec": {
   "display_name": "Python 3 (ipykernel)",
   "language": "python",
   "name": "python3"
  },
  "language_info": {
   "codemirror_mode": {
    "name": "ipython",
    "version": 3
   },
   "file_extension": ".py",
   "mimetype": "text/x-python",
   "name": "python",
   "nbconvert_exporter": "python",
   "pygments_lexer": "ipython3",
   "version": "3.11.8"
  }
 },
 "nbformat": 4,
 "nbformat_minor": 5
}
