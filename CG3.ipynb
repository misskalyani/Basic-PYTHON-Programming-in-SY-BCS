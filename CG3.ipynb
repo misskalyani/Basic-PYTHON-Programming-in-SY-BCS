{
 "cells": [
  {
   "cell_type": "code",
   "execution_count": 5,
   "id": "35b61714",
   "metadata": {},
   "outputs": [
    {
     "name": "stdout",
     "output_type": "stream",
     "text": [
      "AREA =  4\n",
      "\n",
      "Perimeter =  1 + sqrt(17) + 2*sqrt(5)\n",
      "\n",
      "Rotate by 180 =  Polygon(Point2D(0, 0), Point2D(-1, 0), Point2D(-2, -2), Point2D(-1, -4))\n",
      "\n",
      " Convex or not =  True\n",
      "\n",
      " vertex 'a' angle =  acos(sqrt(17)/17)\n",
      "\n",
      " vertex 'b' angle =  acos(-sqrt(5)/5)\n",
      "\n",
      " vertex 'c' angle =  acos(-3/5)\n",
      "\n",
      " vertex 'd' angle =  acos(7*sqrt(85)/85)\n"
     ]
    }
   ],
   "source": [
    "#Write Python Program draw POLYGON with vertices a(0,0),b(1,0),(2,2),d(1,4)AND find Primeter,Area And ROTATE by 180\n",
    "#Also Check polygon is CONVEX or not\n",
    "#print internal angle at each vertex\n",
    "from sympy import*\n",
    "a=Point(0,0)\n",
    "b=Point(1,0)\n",
    "c=Point(2,2)\n",
    "d=Point(1,4)\n",
    "p=Polygon(a,b,c,d)\n",
    "print(\"AREA = \",p.area)\n",
    "print(\"\\nPerimeter = \",p.perimeter)\n",
    "print(\"\\nRotate by 180 = \",p.rotate(pi))\n",
    "print(\"\\n Convex or not = \",p.is_convex())\n",
    "print(\"\\n vertex 'a' angle = \",p.angles[a])\n",
    "print(\"\\n vertex 'b' angle = \",p.angles[b])\n",
    "print(\"\\n vertex 'c' angle = \",p.angles[c])\n",
    "print(\"\\n vertex 'd' angle = \",p.angles[d])"
   ]
  },
  {
   "cell_type": "code",
   "execution_count": 9,
   "id": "ec8ec41f",
   "metadata": {},
   "outputs": [
    {
     "name": "stdout",
     "output_type": "stream",
     "text": [
      "AREA =  3*sqrt(3)/2\n",
      "\n",
      "Perimeter =  6\n",
      "\n",
      "Reflect it through x-2y=5  =  RegularPolygon(Point2D(21/5, -22/5), -1, 6, atan(4/3))\n",
      "\n",
      "Rotate by 180 =  RegularPolygon(Point2D(-1, -2), 1, 6, 0)\n"
     ]
    }
   ],
   "source": [
    "#Draw A regular Polygon with 6 sides and radius 1 and center at (1,2) and find perimeter,area\n",
    "#Reflect it through x-2y=5 \n",
    "#Rotate it by 180 degree\n",
    "from sympy import*\n",
    "x,y=symbols('x y')\n",
    "p=Polygon((1,2),1,n=6)\n",
    "print(\"AREA = \",p.area)\n",
    "print(\"\\nPerimeter = \",p.perimeter)\n",
    "print(\"\\nReflect it through x-2y=5  = \",p.reflect(Line(x-2*y-5)))\n",
    "print(\"\\nRotate by 180 = \",p.rotate(pi))"
   ]
  },
  {
   "cell_type": "code",
   "execution_count": 12,
   "id": "bb2ce5d0",
   "metadata": {},
   "outputs": [
    {
     "name": "stdout",
     "output_type": "stream",
     "text": [
      "AREA =  1\n",
      "\n",
      "Perimeter =  1 + sqrt(5) + 2*sqrt(2)\n",
      "\n",
      "Rotate by 180 =  Triangle(Point2D(0, 0), Point2D(-1, 0), Point2D(-2, -2))\n",
      "\n",
      "Reflect it through x-2y=5  =  RegularPolygon(Point2D(21/5, -22/5), -1, 6, atan(4/3))\n",
      "\n",
      " Isosceles =  <bound method Triangle.is_isosceles of Triangle(Point2D(0, 0), Point2D(1, 0), Point2D(2, 2))>\n",
      "\n",
      " Isosceles =  <bound method Triangle.is_right of Triangle(Point2D(0, 0), Point2D(1, 0), Point2D(2, 2))>\n",
      "\n",
      " Isosceles =  <bound method Triangle.is_scalene of Triangle(Point2D(0, 0), Point2D(1, 0), Point2D(2, 2))>\n",
      "\n",
      " vertex 'a' angle =  pi/4\n",
      "\n",
      " vertex 'b' angle =  acos(-sqrt(5)/5)\n",
      "\n",
      " vertex 'c' angle =  acos(3*sqrt(10)/10)\n"
     ]
    }
   ],
   "source": [
    "#Write Python Program  Triangle with vertices a(0,0),b(1,0),(2,2)AND find Primeter,Area And ROTATE by 180\n",
    "#Also Check triangle is isosceles,Right angle triangle,scalene or not\n",
    "#print angle at each vertex\n",
    "#Reflect it through x-2y=5 \n",
    "from sympy import*\n",
    "x,y=symbols('x y')\n",
    "a=Point(0,0)\n",
    "b=Point(1,0)\n",
    "c=Point(2,2)\n",
    "t=Triangle(a,b,c)\n",
    "print(\"AREA = \",t.area)\n",
    "print(\"\\nPerimeter = \",t.perimeter)\n",
    "print(\"\\nRotate by 180 = \",t.rotate(pi))\n",
    "print(\"\\nReflect it through x-2y=5  = \",p.reflect(Line(x-2*y-5)))\n",
    "print(\"\\n Isosceles = \",t.is_isosceles)\n",
    "print(\"\\n Isosceles = \",t.is_right)\n",
    "print(\"\\n Isosceles = \",t.is_scalene)\n",
    "print(\"\\n vertex 'a' angle = \",t.angles[a])\n",
    "print(\"\\n vertex 'b' angle = \",t.angles[b])\n",
    "print(\"\\n vertex 'c' angle = \",t.angles[c])"
   ]
  },
  {
   "cell_type": "code",
   "execution_count": null,
   "id": "b1ec21f4",
   "metadata": {},
   "outputs": [],
   "source": []
  }
 ],
 "metadata": {
  "kernelspec": {
   "display_name": "Python 3 (ipykernel)",
   "language": "python",
   "name": "python3"
  },
  "language_info": {
   "codemirror_mode": {
    "name": "ipython",
    "version": 3
   },
   "file_extension": ".py",
   "mimetype": "text/x-python",
   "name": "python",
   "nbconvert_exporter": "python",
   "pygments_lexer": "ipython3",
   "version": "3.11.8"
  }
 },
 "nbformat": 4,
 "nbformat_minor": 5
}
