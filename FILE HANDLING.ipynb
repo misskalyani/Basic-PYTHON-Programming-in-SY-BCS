{
 "cells": [
  {
   "cell_type": "code",
   "execution_count": 4,
   "id": "097515e2",
   "metadata": {},
   "outputs": [
    {
     "name": "stdout",
     "output_type": "stream",
     "text": [
      "Hiii HELLOo\n"
     ]
    }
   ],
   "source": [
    "#read file\n",
    "f1=open(\"abc.txt\",\"r\")\n",
    "s=f1.read()\n",
    "print(s)\n",
    "f1.close()"
   ]
  },
  {
   "cell_type": "code",
   "execution_count": 3,
   "id": "8adb7d07",
   "metadata": {},
   "outputs": [
    {
     "name": "stdout",
     "output_type": "stream",
     "text": [
      "file write succ...\n"
     ]
    }
   ],
   "source": [
    "\n",
    "#write text in to file\n",
    "f1=open(\"abc.txt\",\"w\")\n",
    "f1.write(\"Hiii HELLOo\")\n",
    "f1.close()\n",
    "print(\"file write succ...\")"
   ]
  },
  {
   "cell_type": "code",
   "execution_count": 5,
   "id": "d2f7acbd",
   "metadata": {},
   "outputs": [
    {
     "name": "stdout",
     "output_type": "stream",
     "text": [
      "File copy succesfully..\n"
     ]
    }
   ],
   "source": [
    "#copy content from one file to another file\n",
    "f1=open(\"abc.txt\",\"r\")\n",
    "f2=open(\"pqr.txt\",\"w\")\n",
    "while True:\n",
    "    s=f1.readline()\n",
    "    if s==\"\":\n",
    "        break\n",
    "    f2.write(s)\n",
    "f1.close()\n",
    "f2.close()\n",
    "print(\"File copy succesfully..\")"
   ]
  },
  {
   "cell_type": "code",
   "execution_count": 6,
   "id": "b831b4d2",
   "metadata": {},
   "outputs": [
    {
     "name": "stdout",
     "output_type": "stream",
     "text": [
      "lines= 171\n",
      "words= 635\n",
      "char= 3342\n"
     ]
    }
   ],
   "source": [
    "#Write a python program to compute the no.of characters ,words and line in a file\n",
    "f1=open(\"kalyani.txt\",\"r\")\n",
    "c1=0\n",
    "w=0\n",
    "l=0\n",
    "while True:\n",
    "    s=f1.readline()\n",
    "    l=l+len(s)\n",
    "    if s==\"\":\n",
    "        break\n",
    "    c1=c1+1#line count\n",
    "    s1=s.split(\" \")\n",
    "    for a in s1:\n",
    "        w=w+1\n",
    "print(\"lines=\",c1)   \n",
    "print(\"words=\",w)\n",
    "print(\"char=\",l)"
   ]
  },
  {
   "cell_type": "code",
   "execution_count": 10,
   "id": "e9266c89",
   "metadata": {},
   "outputs": [
    {
     "name": "stdout",
     "output_type": "stream",
     "text": [
      "HIIIIIIII HELLOOOOOO\n"
     ]
    }
   ],
   "source": [
    "#Write a python program to append text to a file and display the text\n",
    "f1=open(\"pqr.txt\",\"w\")\n",
    "f1.write(\"HIIIIIIII HELLOOOOOO\")\n",
    "f1=open(\"pqr.txt\",\"r\")\n",
    "a=f1.read()\n",
    "print(a)\n",
    "f1.close()"
   ]
  },
  {
   "cell_type": "code",
   "execution_count": 1,
   "id": "1271b0d2",
   "metadata": {},
   "outputs": [
    {
     "name": "stdout",
     "output_type": "stream",
     "text": [
      "oOLLEH iiiH"
     ]
    }
   ],
   "source": [
    "#Write a python program to print each line of file in reverse order\n",
    "f1=open(\"abc.txt\",\"r\")\n",
    "while True:\n",
    "    s=f1.readline()\n",
    "    if s==\"\":\n",
    "        break\n",
    "    print(s[::-1],end=\"\")\n",
    "f1.close()"
   ]
  },
  {
   "cell_type": "code",
   "execution_count": 4,
   "id": "10892ea5",
   "metadata": {},
   "outputs": [
    {
     "name": "stdout",
     "output_type": "stream",
     "text": [
      "Enter no of lines to read10\n",
      "HII....I am Kalyani Chaudhari..\n",
      "I am studying in TY BCS Computer Science at RBNB College.\n",
      "I am from Jalgaon.\n",
      "I am learning Java,PHp,python,DS,OS etc..\n",
      "\n",
      "#Write a python program to write a list to a file.\n",
      "f1=open(\"abc.txt\",\"w\")\n",
      "l1=[\"java\",\"php\",\"python\"]\n",
      "for i in l1:\n",
      "    f1.write(i+\"\\n\")\n"
     ]
    }
   ],
   "source": [
    "#Write a python program to read first n lines\n",
    "f1=open(\"kalyani.txt\",\"r\")\n",
    "s=f1.readlines()#read all lines\n",
    "n=int(input(\"Enter no of lines to read\"))\n",
    "for i in range(0,n):\n",
    "    print(s[i],end=\"\")\n",
    "f1.close() "
   ]
  },
  {
   "cell_type": "code",
   "execution_count": 6,
   "id": "6555a466",
   "metadata": {},
   "outputs": [
    {
     "name": "stdout",
     "output_type": "stream",
     "text": [
      "Enter No of Lines to read4\n",
      "HII....I am Kalyani Chaudhari..\n",
      "I am studying in TY BCS Computer Science at RBNB College.\n",
      "I am from Jalgaon.\n",
      "I am learning Java,PHp,python,DS,OS etc..\n"
     ]
    }
   ],
   "source": [
    "#Write a python program to read first n lines\n",
    "f1=open(\"kalyani.txt\",\"r\")\n",
    "n=int(input(\"Enter No of Lines to read\"))\n",
    "for i in range(0,n):\n",
    "        a=f1.readline()\n",
    "        print(a,end=\"\")\n",
    "f1.close()"
   ]
  },
  {
   "cell_type": "code",
   "execution_count": 7,
   "id": "f522f6b3",
   "metadata": {},
   "outputs": [
    {
     "name": "stdout",
     "output_type": "stream",
     "text": [
      "\n",
      "RBNB College Shrirampur\n"
     ]
    }
   ],
   "source": [
    "#Write a python program to append text to a file and display the text\n",
    "f1=open(\"xyz.txt\",\"w\")\n",
    "f1.write(\"\\nRBNB College Shrirampur\")\n",
    "f1.close()\n",
    "\n",
    "f1=open(\"xyz.txt\",\"r\")\n",
    "a=f1.read()\n",
    "print(a)\n",
    "f1.close()\n"
   ]
  },
  {
   "cell_type": "code",
   "execution_count": 9,
   "id": "edb0286b",
   "metadata": {},
   "outputs": [
    {
     "name": "stdout",
     "output_type": "stream",
     "text": [
      "Enter Lines5\n",
      "#read file\n",
      "f1=open(\"abc.txt\",\"r\")\n",
      "s=f1.read()\n",
      "print(s)\n",
      "f1.close()"
     ]
    }
   ],
   "source": [
    "#Write a python program to read last n lines\n",
    "f1=open(\"kalyani.txt\",\"r\")\n",
    "n=int(input(\"Enter Lines\"))\n",
    "lines=f1.readlines()\n",
    "for i in lines[-n:]:\n",
    "    print(i,end='')\n",
    "f1.close()"
   ]
  },
  {
   "cell_type": "code",
   "execution_count": 11,
   "id": "8cf30692",
   "metadata": {},
   "outputs": [
    {
     "name": "stdout",
     "output_type": "stream",
     "text": [
      "list = ['HII....I am Kalyani Chaudhari..\\n', 'I am studying in TY BCS Computer Science at RBNB College.\\n', 'I am from Jalgaon.\\n', 'I am learning Java,PHp,python,DS,OS etc..\\n', '\\n', '#Write a python program to write a list to a file.\\n', 'f1=open(\"abc.txt\",\"w\")\\n', 'l1=[\"java\",\"php\",\"python\"]\\n', 'for i in l1:\\n', '    f1.write(i+\"\\\\n\")\\n', 'f1.close()\\n', 'print(\"Write Successfully...\")\\n', '\\n', '#Write a python program to get the file size of a plain file\\n', 'f=open(\"abc.txt\",\"r\"]\\n', 's=f.read()\\n', 'print(\"size =\",len(s))\\n', 'f.close()\\n', '\\n', '#Write a python program to count the frequency of words in a file\\n', '\\n', 'f1=open(\"abc.txt\",\"r\")\\n', 's=f1.read()\\n', 's1=s.split(\" \")\\n', 'l1=[]\\n', 'for i in s1:\\n', '    if i not in l1:\\n', '        print(i,\"count\",s1.count(i))\\n', '    l1.append(i)\\n', 'f1.close()\\n', '\\n', '#Write a python program to count the frequency of words in a file\\n', 'f1=open(\"abc.txt\",\"r\")\\n', 'c=0\\n', 'while True:\\n', '    s=f1.readline()\\n', '    c=c+1;\\n', '    if s==\"\":\\n', '        break;\\n', 'print(\"number of lines =\",c)\\n', 'f1.close()\\n', '\\n', '#Write a python program to find the longest words\\n', 'f1=open(\"abc.txt\",\"r\")\\n', 's=f1.read()\\n', 's1=s.split(\"\")\\n', 's2=\"\"\\n', 'for i in s1:\\n', '    if len(i)>len(s2):\\n', '        s2=i\\n', 'print(\"Longest Word = \",s2)\\n', 'f1.close()\\n', '\\n', '#Write a python program to read a file line by line store it into vairable\\n', 'f1=open(\"abc.txt\",\"r\")\\n', 's1=\"\"\\n', 'while True:\\n', '    s=f1.readline()\\n', '    if s==\"\":\\n', '        break\\n', '    s1=s1+s\\n', 'print(\"Varibale = \",s1)\\n', 'f1.close()\\n', '\\n', '#Write a python program to read a file line by line store it into list\\n', 'f1=open(\"abc.txt\",\"r\")\\n', 'l1=[]\\n', 'while True:\\n', '    s1=f1.readline()\\n', '    if s1==\"\":\\n', '        break\\n', '    l1.append(s1)\\n', 'print(\"list =\",l1)\\n', 'f1.close()\\n', '\\n', '#Write a python program to read last n lines\\n', 'f1=open(\"abc.txt\",\"r\")\\n', 'n=int(input(\"Enter Lines\"))\\n', 'lines=f1.readlines()\\n', 'for i in lines[-n:]:\\n', \"    print(i,end='')\\n\", 'f1.close()\\n', '\\n', '#Write a python program to append text to a file and display the text\\n', 'f1=open(\"xyz.txt\",\"w\")\\n', 'f1.write(\"\\\\nRBNB College Shrirampur\")\\n', 'f1.close()\\n', '\\n', 'f1=open(\"xyz.txt\",\"r\")\\n', 'a=f1.read()\\n', 'print(a)\\n', 'f1.close()\\n', '\\n', '#Write a python program to read first n lines\\n', 'f1=open(\"kalyani.txt\",\"r\")\\n', 'n=int(input(\"Enter No of Lines to read\"))\\n', 'for i in range(0,n):\\n', '        a=f1.readline()\\n', '        print(a,ends\"\")\\n', 'f1.close()\\n', '\\n', '\\n', '#Write a python program to read first n lines\\n', 'f1=open(\"kalyani.txt\",\"r\")\\n', 's=f1.readlines()\\n', 'n=int(input(\"Enter no of lines to read\"))\\n', 'for i in range(0,n):\\n', '    print(s[i],ends\"\")\\n', 'f1.close()    \\n', '\\n', '\\n', '#Write a python program to print each line of file in reverse order\\n', 'f1=open(\"abc.txt\",\"r\")\\n', 'while True:\\n', '    s=f1.readlines()\\n', '    if s==\"\":\\n', '        break\\n', '    print(s[::-1],end=\"\")\\n', 'f1.close()\\n', '\\n', '\\n', '#Write a python program to append text to a file and display the text\\n', 'f1=open(\"pqr.txt\",\"w\")\\n', 'f1.write(\"HIIIIIIII HELLOOOOOO\")\\n', 'a=f1.read()\\n', 'print(a)\\n', 'f1.close()\\n', '\\n', '\\n', '#Write a python program to compute the no.of characters ,words and line in a file\\n', 'f1=open(\"kalyani.txt\",\"r\")\\n', 'c1=0\\n', 'w=0\\n', 'l=0\\n', 'while True:\\n', '    s=f1.readline()\\n', '    l=l+len(s)\\n', '    if s==\"\":\\n', '        break\\n', '    c1=c1+1#line count\\n', '    s1=s.split(\" \")\\n', '    for a in s1:\\n', '        w=w+1\\n', 'print(\"lines=\",c1)   \\n', 'print(\"words=\",w)\\n', 'print(\"char=\",l)\\n', '\\n', '#copy content from one file to another file\\n', 'f1=open(\"abc.txt\",\"r\")\\n', 'f2=open(\"pqr.txt\",\"w\")\\n', 'while True:\\n', '    s=f1.readline()\\n', '    if s==\"\":\\n', '        break\\n', '    f2.write(s)\\n', 'f1.close()\\n', 'f2.close()\\n', 'print(\"File copy succesfully..\")\\n', '\\n', '#write text in to file\\n', 'f1=open(\"abc.txt\",\"w\")\\n', 'f1.write(\"Hiii HELLOo\")\\n', 'f1.close()\\n', 'print(\"file write succ...\")\\n', '\\n', '\\n', '#read file\\n', 'f1=open(\"abc.txt\",\"r\")\\n', 's=f1.read()\\n', 'print(s)\\n', 'f1.close()']\n"
     ]
    }
   ],
   "source": [
    "#Write a python program to read a file line by line store it into list\n",
    "f1=open(\"kalyani.txt\",\"r\")\n",
    "l1=[]\n",
    "while True:\n",
    "    s1=f1.readline()\n",
    "    if s1==\"\":\n",
    "        break\n",
    "    l1.append(s1)\n",
    "print(\"list =\",l1)\n",
    "f1.close()"
   ]
  },
  {
   "cell_type": "code",
   "execution_count": 12,
   "id": "0d1c7c1b",
   "metadata": {},
   "outputs": [
    {
     "name": "stdout",
     "output_type": "stream",
     "text": [
      "Varibale =  Hiii HELLOo\n"
     ]
    }
   ],
   "source": [
    "#Write a python program to read a file line by line store it into vairable\n",
    "f1=open(\"abc.txt\",\"r\")\n",
    "s1=\"\"\n",
    "while True:\n",
    "    s=f1.readline()\n",
    "    if s==\"\":\n",
    "        break\n",
    "    s1=s1+s\n",
    "print(\"Varibale = \",s1)\n",
    "f1.close()"
   ]
  },
  {
   "cell_type": "code",
   "execution_count": 14,
   "id": "00ffa18e",
   "metadata": {},
   "outputs": [
    {
     "name": "stdout",
     "output_type": "stream",
     "text": [
      "Longest Word =  HELLOo\n"
     ]
    }
   ],
   "source": [
    "#Write a python program to find the longest words\n",
    "f1=open(\"abc.txt\",\"r\")\n",
    "s=f1.read()\n",
    "s1=s.split(\" \")\n",
    "s2=\"\"\n",
    "for i in s1:\n",
    "    if len(i)>len(s2):\n",
    "        s2=i\n",
    "print(\"Longest Word = \",s2)\n",
    "f1.close()"
   ]
  },
  {
   "cell_type": "code",
   "execution_count": 15,
   "id": "76cc55e1",
   "metadata": {},
   "outputs": [
    {
     "name": "stdout",
     "output_type": "stream",
     "text": [
      "number of lines = 2\n"
     ]
    }
   ],
   "source": [
    "#Write a python program to count the frequency of words in a file\n",
    "f1=open(\"abc.txt\",\"r\")\n",
    "c=0\n",
    "while True:\n",
    "    s=f1.readline()\n",
    "    c=c+1;\n",
    "    if s==\"\":\n",
    "        break;\n",
    "print(\"number of lines =\",c)\n",
    "f1.close()"
   ]
  },
  {
   "cell_type": "code",
   "execution_count": 16,
   "id": "c5fbb300",
   "metadata": {},
   "outputs": [
    {
     "name": "stdout",
     "output_type": "stream",
     "text": [
      "Hiii count 1\n",
      "HELLOo count 1\n"
     ]
    }
   ],
   "source": [
    "#Write a python program to count the frequency of words in a file\n",
    "\n",
    "f1=open(\"abc.txt\",\"r\")\n",
    "s=f1.read()\n",
    "s1=s.split(\" \")\n",
    "l1=[]\n",
    "for i in s1:\n",
    "    if i not in l1:\n",
    "        print(i,\"count\",s1.count(i))\n",
    "    l1.append(i)\n",
    "f1.close()"
   ]
  },
  {
   "cell_type": "code",
   "execution_count": 18,
   "id": "268b61b0",
   "metadata": {},
   "outputs": [
    {
     "name": "stdout",
     "output_type": "stream",
     "text": [
      "size = 11\n"
     ]
    }
   ],
   "source": [
    "#Write a python program to get the file size of a plain file\n",
    "f=open(\"abc.txt\",\"r\")\n",
    "s=f.read()\n",
    "print(\"size =\",len(s))\n",
    "f.close()"
   ]
  },
  {
   "cell_type": "code",
   "execution_count": 19,
   "id": "2555fdce",
   "metadata": {},
   "outputs": [
    {
     "name": "stdout",
     "output_type": "stream",
     "text": [
      "Write Successfully...\n"
     ]
    }
   ],
   "source": [
    "#Write a python program to write a list to a file.\n",
    "f1=open(\"abc.txt\",\"w\")\n",
    "l1=[\"java\",\"php\",\"python\"]\n",
    "for i in l1:\n",
    "    f1.write(i+\"\\n\")\n",
    "f1.close()\n",
    "print(\"Write Successfully...\")"
   ]
  },
  {
   "cell_type": "code",
   "execution_count": null,
   "id": "51c6da03",
   "metadata": {},
   "outputs": [],
   "source": []
  }
 ],
 "metadata": {
  "kernelspec": {
   "display_name": "Python 3 (ipykernel)",
   "language": "python",
   "name": "python3"
  },
  "language_info": {
   "codemirror_mode": {
    "name": "ipython",
    "version": 3
   },
   "file_extension": ".py",
   "mimetype": "text/x-python",
   "name": "python",
   "nbconvert_exporter": "python",
   "pygments_lexer": "ipython3",
   "version": "3.11.9"
  }
 },
 "nbformat": 4,
 "nbformat_minor": 5
}
